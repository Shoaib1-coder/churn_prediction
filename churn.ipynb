{
 "cells": [
  {
   "attachments": {},
   "cell_type": "markdown",
   "metadata": {},
   "source": [
    "## ✅ Step 1: Import Required Libraries"
   ]
  },
  {
   "cell_type": "code",
   "execution_count": 2,
   "metadata": {},
   "outputs": [],
   "source": [
    "import pandas as pd\n",
    "import numpy as np\n",
    "import matplotlib.pyplot as plt\n",
    "import seaborn as sns\n"
   ]
  },
  {
   "attachments": {},
   "cell_type": "markdown",
   "metadata": {},
   "source": [
    "## ✅ Step 2: Load the Dataset"
   ]
  },
  {
   "cell_type": "code",
   "execution_count": 3,
   "metadata": {},
   "outputs": [
    {
     "data": {
      "text/html": [
       "<div>\n",
       "<style scoped>\n",
       "    .dataframe tbody tr th:only-of-type {\n",
       "        vertical-align: middle;\n",
       "    }\n",
       "\n",
       "    .dataframe tbody tr th {\n",
       "        vertical-align: top;\n",
       "    }\n",
       "\n",
       "    .dataframe thead th {\n",
       "        text-align: right;\n",
       "    }\n",
       "</style>\n",
       "<table border=\"1\" class=\"dataframe\">\n",
       "  <thead>\n",
       "    <tr style=\"text-align: right;\">\n",
       "      <th></th>\n",
       "      <th>CustomerID</th>\n",
       "      <th>Age</th>\n",
       "      <th>Gender</th>\n",
       "      <th>Tenure</th>\n",
       "      <th>Usage Frequency</th>\n",
       "      <th>Support Calls</th>\n",
       "      <th>Payment Delay</th>\n",
       "      <th>Subscription Type</th>\n",
       "      <th>Contract Length</th>\n",
       "      <th>Total Spend</th>\n",
       "      <th>Last Interaction</th>\n",
       "      <th>Churn</th>\n",
       "    </tr>\n",
       "  </thead>\n",
       "  <tbody>\n",
       "    <tr>\n",
       "      <th>0</th>\n",
       "      <td>1.0</td>\n",
       "      <td>22.0</td>\n",
       "      <td>Female</td>\n",
       "      <td>25.0</td>\n",
       "      <td>14.0</td>\n",
       "      <td>4.0</td>\n",
       "      <td>27.0</td>\n",
       "      <td>Basic</td>\n",
       "      <td>Monthly</td>\n",
       "      <td>598.0</td>\n",
       "      <td>9.0</td>\n",
       "      <td>1.0</td>\n",
       "    </tr>\n",
       "    <tr>\n",
       "      <th>1</th>\n",
       "      <td>2.0</td>\n",
       "      <td>41.0</td>\n",
       "      <td>Female</td>\n",
       "      <td>28.0</td>\n",
       "      <td>28.0</td>\n",
       "      <td>7.0</td>\n",
       "      <td>13.0</td>\n",
       "      <td>Standard</td>\n",
       "      <td>Monthly</td>\n",
       "      <td>584.0</td>\n",
       "      <td>20.0</td>\n",
       "      <td>0.0</td>\n",
       "    </tr>\n",
       "    <tr>\n",
       "      <th>2</th>\n",
       "      <td>3.0</td>\n",
       "      <td>47.0</td>\n",
       "      <td>Male</td>\n",
       "      <td>27.0</td>\n",
       "      <td>10.0</td>\n",
       "      <td>2.0</td>\n",
       "      <td>29.0</td>\n",
       "      <td>Premium</td>\n",
       "      <td>Annual</td>\n",
       "      <td>757.0</td>\n",
       "      <td>21.0</td>\n",
       "      <td>0.0</td>\n",
       "    </tr>\n",
       "    <tr>\n",
       "      <th>3</th>\n",
       "      <td>4.0</td>\n",
       "      <td>35.0</td>\n",
       "      <td>Male</td>\n",
       "      <td>9.0</td>\n",
       "      <td>12.0</td>\n",
       "      <td>5.0</td>\n",
       "      <td>17.0</td>\n",
       "      <td>Premium</td>\n",
       "      <td>Quarterly</td>\n",
       "      <td>232.0</td>\n",
       "      <td>18.0</td>\n",
       "      <td>0.0</td>\n",
       "    </tr>\n",
       "    <tr>\n",
       "      <th>4</th>\n",
       "      <td>5.0</td>\n",
       "      <td>53.0</td>\n",
       "      <td>Female</td>\n",
       "      <td>58.0</td>\n",
       "      <td>24.0</td>\n",
       "      <td>9.0</td>\n",
       "      <td>2.0</td>\n",
       "      <td>Standard</td>\n",
       "      <td>Annual</td>\n",
       "      <td>533.0</td>\n",
       "      <td>18.0</td>\n",
       "      <td>0.0</td>\n",
       "    </tr>\n",
       "  </tbody>\n",
       "</table>\n",
       "</div>"
      ],
      "text/plain": [
       "   CustomerID   Age  Gender  Tenure  Usage Frequency  Support Calls  \\\n",
       "0         1.0  22.0  Female    25.0             14.0            4.0   \n",
       "1         2.0  41.0  Female    28.0             28.0            7.0   \n",
       "2         3.0  47.0    Male    27.0             10.0            2.0   \n",
       "3         4.0  35.0    Male     9.0             12.0            5.0   \n",
       "4         5.0  53.0  Female    58.0             24.0            9.0   \n",
       "\n",
       "   Payment Delay Subscription Type Contract Length  Total Spend  \\\n",
       "0           27.0             Basic         Monthly        598.0   \n",
       "1           13.0          Standard         Monthly        584.0   \n",
       "2           29.0           Premium          Annual        757.0   \n",
       "3           17.0           Premium       Quarterly        232.0   \n",
       "4            2.0          Standard          Annual        533.0   \n",
       "\n",
       "   Last Interaction  Churn  \n",
       "0               9.0    1.0  \n",
       "1              20.0    0.0  \n",
       "2              21.0    0.0  \n",
       "3              18.0    0.0  \n",
       "4              18.0    0.0  "
      ]
     },
     "execution_count": 3,
     "metadata": {},
     "output_type": "execute_result"
    }
   ],
   "source": [
    "# Load the dataset (adjust path if needed)\n",
    "df = pd.read_csv(\"churn.csv\")\n",
    "\n",
    "# Show the first few rows\n",
    "df.head()\n"
   ]
  },
  {
   "attachments": {},
   "cell_type": "markdown",
   "metadata": {},
   "source": [
    "## Exploratory Data Analysis (EDA) "
   ]
  },
  {
   "cell_type": "code",
   "execution_count": 4,
   "metadata": {},
   "outputs": [
    {
     "name": "stdout",
     "output_type": "stream",
     "text": [
      "<class 'pandas.core.frame.DataFrame'>\n",
      "RangeIndex: 505207 entries, 0 to 505206\n",
      "Data columns (total 12 columns):\n",
      " #   Column             Non-Null Count   Dtype  \n",
      "---  ------             --------------   -----  \n",
      " 0   CustomerID         505206 non-null  float64\n",
      " 1   Age                505206 non-null  float64\n",
      " 2   Gender             505206 non-null  object \n",
      " 3   Tenure             505206 non-null  float64\n",
      " 4   Usage Frequency    505206 non-null  float64\n",
      " 5   Support Calls      505206 non-null  float64\n",
      " 6   Payment Delay      505206 non-null  float64\n",
      " 7   Subscription Type  505206 non-null  object \n",
      " 8   Contract Length    505206 non-null  object \n",
      " 9   Total Spend        505206 non-null  float64\n",
      " 10  Last Interaction   505206 non-null  float64\n",
      " 11  Churn              505206 non-null  float64\n",
      "dtypes: float64(9), object(3)\n",
      "memory usage: 46.3+ MB\n"
     ]
    }
   ],
   "source": [
    "# Overview of the dataset\n",
    "df.info()\n"
   ]
  },
  {
   "cell_type": "code",
   "execution_count": 5,
   "metadata": {},
   "outputs": [
    {
     "data": {
      "text/html": [
       "<div>\n",
       "<style scoped>\n",
       "    .dataframe tbody tr th:only-of-type {\n",
       "        vertical-align: middle;\n",
       "    }\n",
       "\n",
       "    .dataframe tbody tr th {\n",
       "        vertical-align: top;\n",
       "    }\n",
       "\n",
       "    .dataframe thead th {\n",
       "        text-align: right;\n",
       "    }\n",
       "</style>\n",
       "<table border=\"1\" class=\"dataframe\">\n",
       "  <thead>\n",
       "    <tr style=\"text-align: right;\">\n",
       "      <th></th>\n",
       "      <th>CustomerID</th>\n",
       "      <th>Age</th>\n",
       "      <th>Tenure</th>\n",
       "      <th>Usage Frequency</th>\n",
       "      <th>Support Calls</th>\n",
       "      <th>Payment Delay</th>\n",
       "      <th>Total Spend</th>\n",
       "      <th>Last Interaction</th>\n",
       "      <th>Churn</th>\n",
       "    </tr>\n",
       "  </thead>\n",
       "  <tbody>\n",
       "    <tr>\n",
       "      <th>count</th>\n",
       "      <td>505206.000000</td>\n",
       "      <td>505206.000000</td>\n",
       "      <td>505206.000000</td>\n",
       "      <td>505206.000000</td>\n",
       "      <td>505206.000000</td>\n",
       "      <td>505206.000000</td>\n",
       "      <td>505206.000000</td>\n",
       "      <td>505206.000000</td>\n",
       "      <td>505206.000000</td>\n",
       "    </tr>\n",
       "    <tr>\n",
       "      <th>mean</th>\n",
       "      <td>200779.451782</td>\n",
       "      <td>39.704172</td>\n",
       "      <td>31.350435</td>\n",
       "      <td>15.714825</td>\n",
       "      <td>3.833317</td>\n",
       "      <td>13.496843</td>\n",
       "      <td>620.072766</td>\n",
       "      <td>14.610581</td>\n",
       "      <td>0.555203</td>\n",
       "    </tr>\n",
       "    <tr>\n",
       "      <th>std</th>\n",
       "      <td>137241.343095</td>\n",
       "      <td>12.670577</td>\n",
       "      <td>17.237482</td>\n",
       "      <td>8.619323</td>\n",
       "      <td>3.133603</td>\n",
       "      <td>8.451187</td>\n",
       "      <td>245.319256</td>\n",
       "      <td>8.608286</td>\n",
       "      <td>0.496944</td>\n",
       "    </tr>\n",
       "    <tr>\n",
       "      <th>min</th>\n",
       "      <td>1.000000</td>\n",
       "      <td>18.000000</td>\n",
       "      <td>1.000000</td>\n",
       "      <td>1.000000</td>\n",
       "      <td>0.000000</td>\n",
       "      <td>0.000000</td>\n",
       "      <td>100.000000</td>\n",
       "      <td>1.000000</td>\n",
       "      <td>0.000000</td>\n",
       "    </tr>\n",
       "    <tr>\n",
       "      <th>25%</th>\n",
       "      <td>63827.250000</td>\n",
       "      <td>29.000000</td>\n",
       "      <td>16.000000</td>\n",
       "      <td>8.000000</td>\n",
       "      <td>1.000000</td>\n",
       "      <td>6.000000</td>\n",
       "      <td>446.000000</td>\n",
       "      <td>7.000000</td>\n",
       "      <td>0.000000</td>\n",
       "    </tr>\n",
       "    <tr>\n",
       "      <th>50%</th>\n",
       "      <td>193039.500000</td>\n",
       "      <td>40.000000</td>\n",
       "      <td>32.000000</td>\n",
       "      <td>16.000000</td>\n",
       "      <td>3.000000</td>\n",
       "      <td>13.000000</td>\n",
       "      <td>648.900000</td>\n",
       "      <td>14.000000</td>\n",
       "      <td>1.000000</td>\n",
       "    </tr>\n",
       "    <tr>\n",
       "      <th>75%</th>\n",
       "      <td>321645.750000</td>\n",
       "      <td>49.000000</td>\n",
       "      <td>46.000000</td>\n",
       "      <td>23.000000</td>\n",
       "      <td>6.000000</td>\n",
       "      <td>20.000000</td>\n",
       "      <td>824.000000</td>\n",
       "      <td>22.000000</td>\n",
       "      <td>1.000000</td>\n",
       "    </tr>\n",
       "    <tr>\n",
       "      <th>max</th>\n",
       "      <td>449999.000000</td>\n",
       "      <td>65.000000</td>\n",
       "      <td>60.000000</td>\n",
       "      <td>30.000000</td>\n",
       "      <td>10.000000</td>\n",
       "      <td>30.000000</td>\n",
       "      <td>1000.000000</td>\n",
       "      <td>30.000000</td>\n",
       "      <td>1.000000</td>\n",
       "    </tr>\n",
       "  </tbody>\n",
       "</table>\n",
       "</div>"
      ],
      "text/plain": [
       "          CustomerID            Age         Tenure  Usage Frequency  \\\n",
       "count  505206.000000  505206.000000  505206.000000    505206.000000   \n",
       "mean   200779.451782      39.704172      31.350435        15.714825   \n",
       "std    137241.343095      12.670577      17.237482         8.619323   \n",
       "min         1.000000      18.000000       1.000000         1.000000   \n",
       "25%     63827.250000      29.000000      16.000000         8.000000   \n",
       "50%    193039.500000      40.000000      32.000000        16.000000   \n",
       "75%    321645.750000      49.000000      46.000000        23.000000   \n",
       "max    449999.000000      65.000000      60.000000        30.000000   \n",
       "\n",
       "       Support Calls  Payment Delay    Total Spend  Last Interaction  \\\n",
       "count  505206.000000  505206.000000  505206.000000     505206.000000   \n",
       "mean        3.833317      13.496843     620.072766         14.610581   \n",
       "std         3.133603       8.451187     245.319256          8.608286   \n",
       "min         0.000000       0.000000     100.000000          1.000000   \n",
       "25%         1.000000       6.000000     446.000000          7.000000   \n",
       "50%         3.000000      13.000000     648.900000         14.000000   \n",
       "75%         6.000000      20.000000     824.000000         22.000000   \n",
       "max        10.000000      30.000000    1000.000000         30.000000   \n",
       "\n",
       "               Churn  \n",
       "count  505206.000000  \n",
       "mean        0.555203  \n",
       "std         0.496944  \n",
       "min         0.000000  \n",
       "25%         0.000000  \n",
       "50%         1.000000  \n",
       "75%         1.000000  \n",
       "max         1.000000  "
      ]
     },
     "execution_count": 5,
     "metadata": {},
     "output_type": "execute_result"
    }
   ],
   "source": [
    "# Statistical summary of numeric columns\n",
    "df.describe()\n"
   ]
  },
  {
   "cell_type": "code",
   "execution_count": 6,
   "metadata": {},
   "outputs": [
    {
     "data": {
      "text/plain": [
       "CustomerID           1\n",
       "Age                  1\n",
       "Gender               1\n",
       "Tenure               1\n",
       "Usage Frequency      1\n",
       "Support Calls        1\n",
       "Payment Delay        1\n",
       "Subscription Type    1\n",
       "Contract Length      1\n",
       "Total Spend          1\n",
       "Last Interaction     1\n",
       "Churn                1\n",
       "dtype: int64"
      ]
     },
     "execution_count": 6,
     "metadata": {},
     "output_type": "execute_result"
    }
   ],
   "source": [
    "# Check for missing values\n",
    "df.isnull().sum()\n"
   ]
  },
  {
   "attachments": {},
   "cell_type": "markdown",
   "metadata": {},
   "source": [
    "### ✅  Value Counts for Categorical Columns"
   ]
  },
  {
   "cell_type": "code",
   "execution_count": 7,
   "metadata": {},
   "outputs": [
    {
     "name": "stdout",
     "output_type": "stream",
     "text": [
      "Gender:\n",
      " Gender\n",
      "Male      280273\n",
      "Female    224933\n",
      "Name: count, dtype: int64\n",
      "\n",
      "Subscription Type:\n",
      " Subscription Type\n",
      "Standard    170630\n",
      "Premium     170099\n",
      "Basic       164477\n",
      "Name: count, dtype: int64\n",
      "\n",
      "Contract Length:\n",
      " Contract Length\n",
      "Annual       198608\n",
      "Quarterly    197364\n",
      "Monthly      109234\n",
      "Name: count, dtype: int64\n",
      "\n",
      "Churn:\n",
      " Churn\n",
      "1.0    280492\n",
      "0.0    224714\n",
      "Name: count, dtype: int64\n"
     ]
    }
   ],
   "source": [
    "# Unique values in categorical columns\n",
    "print(\"Gender:\\n\", df['Gender'].value_counts())\n",
    "print(\"\\nSubscription Type:\\n\", df['Subscription Type'].value_counts())\n",
    "print(\"\\nContract Length:\\n\", df['Contract Length'].value_counts())\n",
    "print(\"\\nChurn:\\n\", df['Churn'].value_counts())\n"
   ]
  },
  {
   "attachments": {},
   "cell_type": "markdown",
   "metadata": {},
   "source": [
    "## ✅  Visualize the Target Variable (Churn)"
   ]
  },
  {
   "cell_type": "code",
   "execution_count": 8,
   "metadata": {},
   "outputs": [
    {
     "data": {
      "image/png": "[encoded data removed]",
      "text/plain": [
       "<Figure size 640x480 with 1 Axes>"
      ]
     },
     "metadata": {},
     "output_type": "display_data"
    }
   ],
   "source": [
    "# Churn distribution\n",
    "sns.countplot(x='Churn', data=df)\n",
    "plt.title(\"Churn Count\")\n",
    "plt.show()\n"
   ]
  },
  {
   "attachments": {},
   "cell_type": "markdown",
   "metadata": {},
   "source": [
    "### ✅  Visualize Categorical Features vs Churn"
   ]
  },
  {
   "cell_type": "code",
   "execution_count": 9,
   "metadata": {},
   "outputs": [
    {
     "data": {
      "image/png": "[encoded data removed]",
      "text/plain": [
       "<Figure size 640x480 with 1 Axes>"
      ]
     },
     "metadata": {},
     "output_type": "display_data"
    },
    {
     "data": {
      "image/png": "[encoded data removed]",
      "text/plain": [
       "<Figure size 640x480 with 1 Axes>"
      ]
     },
     "metadata": {},
     "output_type": "display_data"
    },
    {
     "data": {
      "image/png": "[encoded data removed]",
      "text/plain": [
       "<Figure size 640x480 with 1 Axes>"
      ]
     },
     "metadata": {},
     "output_type": "display_data"
    }
   ],
   "source": [
    "# Gender vs Churn\n",
    "sns.countplot(x='Gender', hue='Churn', data=df)\n",
    "plt.title(\"Gender vs Churn\")\n",
    "plt.show()\n",
    "\n",
    "# Subscription Type vs Churn\n",
    "sns.countplot(x='Subscription Type', hue='Churn', data=df)\n",
    "plt.title(\"Subscription Type vs Churn\")\n",
    "plt.show()\n",
    "\n",
    "# Contract Length vs Churn\n",
    "sns.countplot(x='Contract Length', hue='Churn', data=df)\n",
    "plt.title(\"Contract Length vs Churn\")\n",
    "plt.show()\n"
   ]
  },
  {
   "attachments": {},
   "cell_type": "markdown",
   "metadata": {},
   "source": [
    "### ✅  Visualize Numeric Features with Boxplots"
   ]
  },
  {
   "cell_type": "code",
   "execution_count": 10,
   "metadata": {},
   "outputs": [
    {
     "data": {
      "image/png": "[encoded data removed]",
      "text/plain": [
       "<Figure size 640x480 with 1 Axes>"
      ]
     },
     "metadata": {},
     "output_type": "display_data"
    },
    {
     "data": {
      "image/png": "[encoded data removed]",
      "text/plain": [
       "<Figure size 640x480 with 1 Axes>"
      ]
     },
     "metadata": {},
     "output_type": "display_data"
    }
   ],
   "source": [
    "# Usage Frequency vs Churn\n",
    "sns.boxplot(x='Churn', y='Usage Frequency', data=df)\n",
    "plt.title(\"Usage Frequency by Churn\")\n",
    "plt.show()\n",
    "\n",
    "# Total Spend vs Churn\n",
    "sns.boxplot(x='Churn', y='Total Spend', data=df)\n",
    "plt.title(\"Total Spend by Churn\")\n",
    "plt.show()\n"
   ]
  },
  {
   "attachments": {},
   "cell_type": "markdown",
   "metadata": {},
   "source": [
    "### ✅  Correlation Matrix"
   ]
  },
  {
   "cell_type": "code",
   "execution_count": 11,
   "metadata": {},
   "outputs": [
    {
     "data": {
      "image/png": "[encoded data removed]",
      "text/plain": [
       "<Figure size 1000x600 with 2 Axes>"
      ]
     },
     "metadata": {},
     "output_type": "display_data"
    }
   ],
   "source": [
    "# Convert categorical to numeric temporarily for correlation\n",
    "df_temp = df.copy()\n",
    "df_temp['Gender'] = df_temp['Gender'].map({'Male': 1, 'Female': 0})\n",
    "df_temp['Subscription Type'] = df_temp['Subscription Type'].map({'Basic': 0, 'Standard': 1, 'Premium': 2})\n",
    "df_temp['Contract Length'] = df_temp['Contract Length'].map({'Monthly': 0, 'Quarterly': 1, 'Annual': 2})\n",
    "\n",
    "# Correlation heatmap\n",
    "plt.figure(figsize=(10, 6))\n",
    "sns.heatmap(df_temp.corr(), annot=True, cmap=\"coolwarm\")\n",
    "plt.title(\"Correlation Heatmap\")\n",
    "plt.show()\n"
   ]
  },
  {
   "attachments": {},
   "cell_type": "markdown",
   "metadata": {},
   "source": [
    "## Data Wrangling"
   ]
  },
  {
   "cell_type": "code",
   "execution_count": 12,
   "metadata": {},
   "outputs": [
    {
     "data": {
      "text/plain": [
       "0"
      ]
     },
     "execution_count": 12,
     "metadata": {},
     "output_type": "execute_result"
    }
   ],
   "source": [
    "df.duplicated().sum() #check the duplicated"
   ]
  },
  {
   "cell_type": "code",
   "execution_count": 13,
   "metadata": {},
   "outputs": [
    {
     "data": {
      "text/plain": [
       "CustomerID           1\n",
       "Age                  1\n",
       "Gender               1\n",
       "Tenure               1\n",
       "Usage Frequency      1\n",
       "Support Calls        1\n",
       "Payment Delay        1\n",
       "Subscription Type    1\n",
       "Contract Length      1\n",
       "Total Spend          1\n",
       "Last Interaction     1\n",
       "Churn                1\n",
       "dtype: int64"
      ]
     },
     "execution_count": 13,
     "metadata": {},
     "output_type": "execute_result"
    }
   ],
   "source": [
    "df.isnull().sum() #check null value"
   ]
  },
  {
   "cell_type": "code",
   "execution_count": 14,
   "metadata": {},
   "outputs": [],
   "source": [
    "df=df.dropna() #remove null value"
   ]
  },
  {
   "cell_type": "code",
   "execution_count": 15,
   "metadata": {},
   "outputs": [
    {
     "data": {
      "text/plain": [
       "CustomerID           0\n",
       "Age                  0\n",
       "Gender               0\n",
       "Tenure               0\n",
       "Usage Frequency      0\n",
       "Support Calls        0\n",
       "Payment Delay        0\n",
       "Subscription Type    0\n",
       "Contract Length      0\n",
       "Total Spend          0\n",
       "Last Interaction     0\n",
       "Churn                0\n",
       "dtype: int64"
      ]
     },
     "execution_count": 15,
     "metadata": {},
     "output_type": "execute_result"
    }
   ],
   "source": [
    "df.isnull().sum() #check null value"
   ]
  },
  {
   "cell_type": "code",
   "execution_count": 68,
   "metadata": {},
   "outputs": [],
   "source": [
    "df.drop(columns=['CustomerID'], inplace=True) # remove unnecessory column"
   ]
  },
  {
   "cell_type": "code",
   "execution_count": 16,
   "metadata": {},
   "outputs": [
    {
     "data": {
      "text/html": [
       "<div>\n",
       "<style scoped>\n",
       "    .dataframe tbody tr th:only-of-type {\n",
       "        vertical-align: middle;\n",
       "    }\n",
       "\n",
       "    .dataframe tbody tr th {\n",
       "        vertical-align: top;\n",
       "    }\n",
       "\n",
       "    .dataframe thead th {\n",
       "        text-align: right;\n",
       "    }\n",
       "</style>\n",
       "<table border=\"1\" class=\"dataframe\">\n",
       "  <thead>\n",
       "    <tr style=\"text-align: right;\">\n",
       "      <th></th>\n",
       "      <th>CustomerID</th>\n",
       "      <th>Age</th>\n",
       "      <th>Gender</th>\n",
       "      <th>Tenure</th>\n",
       "      <th>Usage Frequency</th>\n",
       "      <th>Support Calls</th>\n",
       "      <th>Payment Delay</th>\n",
       "      <th>Subscription Type</th>\n",
       "      <th>Contract Length</th>\n",
       "      <th>Total Spend</th>\n",
       "      <th>Last Interaction</th>\n",
       "      <th>Churn</th>\n",
       "    </tr>\n",
       "  </thead>\n",
       "  <tbody>\n",
       "    <tr>\n",
       "      <th>0</th>\n",
       "      <td>1.0</td>\n",
       "      <td>22.0</td>\n",
       "      <td>Female</td>\n",
       "      <td>25.0</td>\n",
       "      <td>14.0</td>\n",
       "      <td>4.0</td>\n",
       "      <td>27.0</td>\n",
       "      <td>Basic</td>\n",
       "      <td>Monthly</td>\n",
       "      <td>598.0</td>\n",
       "      <td>9.0</td>\n",
       "      <td>1.0</td>\n",
       "    </tr>\n",
       "    <tr>\n",
       "      <th>1</th>\n",
       "      <td>2.0</td>\n",
       "      <td>41.0</td>\n",
       "      <td>Female</td>\n",
       "      <td>28.0</td>\n",
       "      <td>28.0</td>\n",
       "      <td>7.0</td>\n",
       "      <td>13.0</td>\n",
       "      <td>Standard</td>\n",
       "      <td>Monthly</td>\n",
       "      <td>584.0</td>\n",
       "      <td>20.0</td>\n",
       "      <td>0.0</td>\n",
       "    </tr>\n",
       "    <tr>\n",
       "      <th>2</th>\n",
       "      <td>3.0</td>\n",
       "      <td>47.0</td>\n",
       "      <td>Male</td>\n",
       "      <td>27.0</td>\n",
       "      <td>10.0</td>\n",
       "      <td>2.0</td>\n",
       "      <td>29.0</td>\n",
       "      <td>Premium</td>\n",
       "      <td>Annual</td>\n",
       "      <td>757.0</td>\n",
       "      <td>21.0</td>\n",
       "      <td>0.0</td>\n",
       "    </tr>\n",
       "    <tr>\n",
       "      <th>3</th>\n",
       "      <td>4.0</td>\n",
       "      <td>35.0</td>\n",
       "      <td>Male</td>\n",
       "      <td>9.0</td>\n",
       "      <td>12.0</td>\n",
       "      <td>5.0</td>\n",
       "      <td>17.0</td>\n",
       "      <td>Premium</td>\n",
       "      <td>Quarterly</td>\n",
       "      <td>232.0</td>\n",
       "      <td>18.0</td>\n",
       "      <td>0.0</td>\n",
       "    </tr>\n",
       "    <tr>\n",
       "      <th>4</th>\n",
       "      <td>5.0</td>\n",
       "      <td>53.0</td>\n",
       "      <td>Female</td>\n",
       "      <td>58.0</td>\n",
       "      <td>24.0</td>\n",
       "      <td>9.0</td>\n",
       "      <td>2.0</td>\n",
       "      <td>Standard</td>\n",
       "      <td>Annual</td>\n",
       "      <td>533.0</td>\n",
       "      <td>18.0</td>\n",
       "      <td>0.0</td>\n",
       "    </tr>\n",
       "  </tbody>\n",
       "</table>\n",
       "</div>"
      ],
      "text/plain": [
       "   CustomerID   Age  Gender  Tenure  Usage Frequency  Support Calls  \\\n",
       "0         1.0  22.0  Female    25.0             14.0            4.0   \n",
       "1         2.0  41.0  Female    28.0             28.0            7.0   \n",
       "2         3.0  47.0    Male    27.0             10.0            2.0   \n",
       "3         4.0  35.0    Male     9.0             12.0            5.0   \n",
       "4         5.0  53.0  Female    58.0             24.0            9.0   \n",
       "\n",
       "   Payment Delay Subscription Type Contract Length  Total Spend  \\\n",
       "0           27.0             Basic         Monthly        598.0   \n",
       "1           13.0          Standard         Monthly        584.0   \n",
       "2           29.0           Premium          Annual        757.0   \n",
       "3           17.0           Premium       Quarterly        232.0   \n",
       "4            2.0          Standard          Annual        533.0   \n",
       "\n",
       "   Last Interaction  Churn  \n",
       "0               9.0    1.0  \n",
       "1              20.0    0.0  \n",
       "2              21.0    0.0  \n",
       "3              18.0    0.0  \n",
       "4              18.0    0.0  "
      ]
     },
     "execution_count": 16,
     "metadata": {},
     "output_type": "execute_result"
    }
   ],
   "source": [
    "df.head()"
   ]
  },
  {
   "attachments": {},
   "cell_type": "markdown",
   "metadata": {},
   "source": [
    "### check ouliers outliers using boxplot"
   ]
  },
  {
   "cell_type": "code",
   "execution_count": 19,
   "metadata": {},
   "outputs": [
    {
     "data": {
      "text/plain": [
       "<Axes: ylabel='Age'>"
      ]
     },
     "execution_count": 19,
     "metadata": {},
     "output_type": "execute_result"
    },
    {
     "data": {
      "image/png": "[encoded data removed]",
      "text/plain": [
       "<Figure size 640x480 with 1 Axes>"
      ]
     },
     "metadata": {},
     "output_type": "display_data"
    }
   ],
   "source": [
    "sns.boxplot(y='Age' ,data=df)"
   ]
  },
  {
   "cell_type": "code",
   "execution_count": 20,
   "metadata": {},
   "outputs": [
    {
     "data": {
      "text/plain": [
       "<Axes: ylabel='Total Spend'>"
      ]
     },
     "execution_count": 20,
     "metadata": {},
     "output_type": "execute_result"
    },
    {
     "data": {
      "image/png": "[encoded data removed]",
      "text/plain": [
       "<Figure size 640x480 with 1 Axes>"
      ]
     },
     "metadata": {},
     "output_type": "display_data"
    }
   ],
   "source": [
    "sns.boxplot(y='Total Spend' ,data=df)"
   ]
  },
  {
   "attachments": {},
   "cell_type": "markdown",
   "metadata": {},
   "source": [
    "### Encode categorical columns"
   ]
  },
  {
   "cell_type": "code",
   "execution_count": 69,
   "metadata": {},
   "outputs": [],
   "source": [
    "from sklearn.preprocessing import LabelEncoder\n",
    "# Encode categorical columns\n",
    "le = LabelEncoder()\n",
    "df['Gender'] = le.fit_transform(df['Gender'])\n",
    "df['Subscription Type'] = le.fit_transform(df['Subscription Type'])\n",
    "df['Contract Length'] = le.fit_transform(df['Contract Length'])"
   ]
  },
  {
   "cell_type": "code",
   "execution_count": 70,
   "metadata": {},
   "outputs": [
    {
     "data": {
      "text/html": [
       "<div>\n",
       "<style scoped>\n",
       "    .dataframe tbody tr th:only-of-type {\n",
       "        vertical-align: middle;\n",
       "    }\n",
       "\n",
       "    .dataframe tbody tr th {\n",
       "        vertical-align: top;\n",
       "    }\n",
       "\n",
       "    .dataframe thead th {\n",
       "        text-align: right;\n",
       "    }\n",
       "</style>\n",
       "<table border=\"1\" class=\"dataframe\">\n",
       "  <thead>\n",
       "    <tr style=\"text-align: right;\">\n",
       "      <th></th>\n",
       "      <th>Age</th>\n",
       "      <th>Gender</th>\n",
       "      <th>Tenure</th>\n",
       "      <th>Usage Frequency</th>\n",
       "      <th>Support Calls</th>\n",
       "      <th>Payment Delay</th>\n",
       "      <th>Subscription Type</th>\n",
       "      <th>Contract Length</th>\n",
       "      <th>Total Spend</th>\n",
       "      <th>Last Interaction</th>\n",
       "      <th>Churn</th>\n",
       "    </tr>\n",
       "  </thead>\n",
       "  <tbody>\n",
       "    <tr>\n",
       "      <th>0</th>\n",
       "      <td>22.0</td>\n",
       "      <td>0</td>\n",
       "      <td>25.0</td>\n",
       "      <td>14.0</td>\n",
       "      <td>4.0</td>\n",
       "      <td>27.0</td>\n",
       "      <td>0</td>\n",
       "      <td>1</td>\n",
       "      <td>598.0</td>\n",
       "      <td>9.0</td>\n",
       "      <td>1.0</td>\n",
       "    </tr>\n",
       "    <tr>\n",
       "      <th>1</th>\n",
       "      <td>41.0</td>\n",
       "      <td>0</td>\n",
       "      <td>28.0</td>\n",
       "      <td>28.0</td>\n",
       "      <td>7.0</td>\n",
       "      <td>13.0</td>\n",
       "      <td>2</td>\n",
       "      <td>1</td>\n",
       "      <td>584.0</td>\n",
       "      <td>20.0</td>\n",
       "      <td>0.0</td>\n",
       "    </tr>\n",
       "    <tr>\n",
       "      <th>2</th>\n",
       "      <td>47.0</td>\n",
       "      <td>1</td>\n",
       "      <td>27.0</td>\n",
       "      <td>10.0</td>\n",
       "      <td>2.0</td>\n",
       "      <td>29.0</td>\n",
       "      <td>1</td>\n",
       "      <td>0</td>\n",
       "      <td>757.0</td>\n",
       "      <td>21.0</td>\n",
       "      <td>0.0</td>\n",
       "    </tr>\n",
       "    <tr>\n",
       "      <th>3</th>\n",
       "      <td>35.0</td>\n",
       "      <td>1</td>\n",
       "      <td>9.0</td>\n",
       "      <td>12.0</td>\n",
       "      <td>5.0</td>\n",
       "      <td>17.0</td>\n",
       "      <td>1</td>\n",
       "      <td>2</td>\n",
       "      <td>232.0</td>\n",
       "      <td>18.0</td>\n",
       "      <td>0.0</td>\n",
       "    </tr>\n",
       "    <tr>\n",
       "      <th>4</th>\n",
       "      <td>53.0</td>\n",
       "      <td>0</td>\n",
       "      <td>58.0</td>\n",
       "      <td>24.0</td>\n",
       "      <td>9.0</td>\n",
       "      <td>2.0</td>\n",
       "      <td>2</td>\n",
       "      <td>0</td>\n",
       "      <td>533.0</td>\n",
       "      <td>18.0</td>\n",
       "      <td>0.0</td>\n",
       "    </tr>\n",
       "  </tbody>\n",
       "</table>\n",
       "</div>"
      ],
      "text/plain": [
       "    Age  Gender  Tenure  Usage Frequency  Support Calls  Payment Delay  \\\n",
       "0  22.0       0    25.0             14.0            4.0           27.0   \n",
       "1  41.0       0    28.0             28.0            7.0           13.0   \n",
       "2  47.0       1    27.0             10.0            2.0           29.0   \n",
       "3  35.0       1     9.0             12.0            5.0           17.0   \n",
       "4  53.0       0    58.0             24.0            9.0            2.0   \n",
       "\n",
       "   Subscription Type  Contract Length  Total Spend  Last Interaction  Churn  \n",
       "0                  0                1        598.0               9.0    1.0  \n",
       "1                  2                1        584.0              20.0    0.0  \n",
       "2                  1                0        757.0              21.0    0.0  \n",
       "3                  1                2        232.0              18.0    0.0  \n",
       "4                  2                0        533.0              18.0    0.0  "
      ]
     },
     "execution_count": 70,
     "metadata": {},
     "output_type": "execute_result"
    }
   ],
   "source": [
    "df.head()"
   ]
  },
  {
   "cell_type": "code",
   "execution_count": 71,
   "metadata": {},
   "outputs": [
    {
     "data": {
      "text/plain": [
       "array([ 9., 20., 21., 18., 29., 14., 16.,  8., 10.,  3.,  1., 24., 30.,\n",
       "       15., 25., 22., 13., 26., 12.,  4., 27.,  6., 17., 19.,  5.,  2.,\n",
       "       11.,  7., 28., 23.])"
      ]
     },
     "execution_count": 71,
     "metadata": {},
     "output_type": "execute_result"
    }
   ],
   "source": [
    "df['Last Interaction'].unique()"
   ]
  },
  {
   "attachments": {},
   "cell_type": "markdown",
   "metadata": {},
   "source": [
    "### Features/Target split"
   ]
  },
  {
   "cell_type": "code",
   "execution_count": 72,
   "metadata": {},
   "outputs": [],
   "source": [
    "# Feature/Target split\n",
    "X = df.drop(\"Churn\", axis=1)\n",
    "y = df[\"Churn\"]"
   ]
  },
  {
   "attachments": {},
   "cell_type": "markdown",
   "metadata": {},
   "source": [
    "### Normalize/scale Data"
   ]
  },
  {
   "cell_type": "code",
   "execution_count": 73,
   "metadata": {},
   "outputs": [],
   "source": [
    "# Normalize\n",
    "from sklearn.preprocessing import StandardScaler\n",
    "scaler = StandardScaler()\n",
    "X_scaled = scaler.fit_transform(X)"
   ]
  },
  {
   "attachments": {},
   "cell_type": "markdown",
   "metadata": {},
   "source": [
    "### train test split"
   ]
  },
  {
   "cell_type": "code",
   "execution_count": 76,
   "metadata": {},
   "outputs": [],
   "source": [
    "# train test split\n",
    "from sklearn.model_selection import train_test_split\n",
    "X_train, X_test, y_train, y_test = train_test_split(X_scaled, y, test_size=0.2, random_state=42)"
   ]
  },
  {
   "attachments": {},
   "cell_type": "markdown",
   "metadata": {},
   "source": [
    "## Train Model Using Xgboost"
   ]
  },
  {
   "cell_type": "code",
   "execution_count": 77,
   "metadata": {},
   "outputs": [
    {
     "data": {
      "text/html": [
       "<style>#sk-container-id-1 {color: black;}#sk-container-id-1 pre{padding: 0;}#sk-container-id-1 div.sk-toggleable {background-color: white;}#sk-container-id-1 label.sk-toggleable__label {cursor: pointer;display: block;width: 100%;margin-bottom: 0;padding: 0.3em;box-sizing: border-box;text-align: center;}#sk-container-id-1 label.sk-toggleable__label-arrow:before {content: \"▸\";float: left;margin-right: 0.25em;color: #696969;}#sk-container-id-1 label.sk-toggleable__label-arrow:hover:before {color: black;}#sk-container-id-1 div.sk-estimator:hover label.sk-toggleable__label-arrow:before {color: black;}#sk-container-id-1 div.sk-toggleable__content {max-height: 0;max-width: 0;overflow: hidden;text-align: left;background-color: #f0f8ff;}#sk-container-id-1 div.sk-toggleable__content pre {margin: 0.2em;color: black;border-radius: 0.25em;background-color: #f0f8ff;}#sk-container-id-1 input.sk-toggleable__control:checked~div.sk-toggleable__content {max-height: 200px;max-width: 100%;overflow: auto;}#sk-container-id-1 input.sk-toggleable__control:checked~label.sk-toggleable__label-arrow:before {content: \"▾\";}#sk-container-id-1 div.sk-estimator input.sk-toggleable__control:checked~label.sk-toggleable__label {background-color: #d4ebff;}#sk-container-id-1 div.sk-label input.sk-toggleable__control:checked~label.sk-toggleable__label {background-color: #d4ebff;}#sk-container-id-1 input.sk-hidden--visually {border: 0;clip: rect(1px 1px 1px 1px);clip: rect(1px, 1px, 1px, 1px);height: 1px;margin: -1px;overflow: hidden;padding: 0;position: absolute;width: 1px;}#sk-container-id-1 div.sk-estimator {font-family: monospace;background-color: #f0f8ff;border: 1px dotted black;border-radius: 0.25em;box-sizing: border-box;margin-bottom: 0.5em;}#sk-container-id-1 div.sk-estimator:hover {background-color: #d4ebff;}#sk-container-id-1 div.sk-parallel-item::after {content: \"\";width: 100%;border-bottom: 1px solid gray;flex-grow: 1;}#sk-container-id-1 div.sk-label:hover label.sk-toggleable__label {background-color: #d4ebff;}#sk-container-id-1 div.sk-serial::before {content: \"\";position: absolute;border-left: 1px solid gray;box-sizing: border-box;top: 0;bottom: 0;left: 50%;z-index: 0;}#sk-container-id-1 div.sk-serial {display: flex;flex-direction: column;align-items: center;background-color: white;padding-right: 0.2em;padding-left: 0.2em;position: relative;}#sk-container-id-1 div.sk-item {position: relative;z-index: 1;}#sk-container-id-1 div.sk-parallel {display: flex;align-items: stretch;justify-content: center;background-color: white;position: relative;}#sk-container-id-1 div.sk-item::before, #sk-container-id-1 div.sk-parallel-item::before {content: \"\";position: absolute;border-left: 1px solid gray;box-sizing: border-box;top: 0;bottom: 0;left: 50%;z-index: -1;}#sk-container-id-1 div.sk-parallel-item {display: flex;flex-direction: column;z-index: 1;position: relative;background-color: white;}#sk-container-id-1 div.sk-parallel-item:first-child::after {align-self: flex-end;width: 50%;}#sk-container-id-1 div.sk-parallel-item:last-child::after {align-self: flex-start;width: 50%;}#sk-container-id-1 div.sk-parallel-item:only-child::after {width: 0;}#sk-container-id-1 div.sk-dashed-wrapped {border: 1px dashed gray;margin: 0 0.4em 0.5em 0.4em;box-sizing: border-box;padding-bottom: 0.4em;background-color: white;}#sk-container-id-1 div.sk-label label {font-family: monospace;font-weight: bold;display: inline-block;line-height: 1.2em;}#sk-container-id-1 div.sk-label-container {text-align: center;}#sk-container-id-1 div.sk-container {/* jupyter's `normalize.less` sets `[hidden] { display: none; }` but bootstrap.min.css set `[hidden] { display: none !important; }` so we also need the `!important` here to be able to override the default hidden behavior on the sphinx rendered scikit-learn.org. See: https://github.com/scikit-learn/scikit-learn/issues/21755 */display: inline-block !important;position: relative;}#sk-container-id-1 div.sk-text-repr-fallback {display: none;}</style><div id=\"sk-container-id-1\" class=\"sk-top-container\"><div class=\"sk-text-repr-fallback\"><pre>XGBClassifier(base_score=None, booster=None, callbacks=None,\n",
       "              colsample_bylevel=None, colsample_bynode=None,\n",
       "              colsample_bytree=None, device=None, early_stopping_rounds=None,\n",
       "              enable_categorical=False, eval_metric=&#x27;logloss&#x27;,\n",
       "              feature_types=None, gamma=None, grow_policy=None,\n",
       "              importance_type=None, interaction_constraints=None,\n",
       "              learning_rate=None, max_bin=None, max_cat_threshold=None,\n",
       "              max_cat_to_onehot=None, max_delta_step=None, max_depth=None,\n",
       "              max_leaves=None, min_child_weight=None, missing=nan,\n",
       "              monotone_constraints=None, multi_strategy=None, n_estimators=None,\n",
       "              n_jobs=None, num_parallel_tree=None, random_state=None, ...)</pre><b>In a Jupyter environment, please rerun this cell to show the HTML representation or trust the notebook. <br />On GitHub, the HTML representation is unable to render, please try loading this page with nbviewer.org.</b></div><div class=\"sk-container\" hidden><div class=\"sk-item\"><div class=\"sk-estimator sk-toggleable\"><input class=\"sk-toggleable__control sk-hidden--visually\" id=\"sk-estimator-id-1\" type=\"checkbox\" checked><label for=\"sk-estimator-id-1\" class=\"sk-toggleable__label sk-toggleable__label-arrow\">XGBClassifier</label><div class=\"sk-toggleable__content\"><pre>XGBClassifier(base_score=None, booster=None, callbacks=None,\n",
       "              colsample_bylevel=None, colsample_bynode=None,\n",
       "              colsample_bytree=None, device=None, early_stopping_rounds=None,\n",
       "              enable_categorical=False, eval_metric=&#x27;logloss&#x27;,\n",
       "              feature_types=None, gamma=None, grow_policy=None,\n",
       "              importance_type=None, interaction_constraints=None,\n",
       "              learning_rate=None, max_bin=None, max_cat_threshold=None,\n",
       "              max_cat_to_onehot=None, max_delta_step=None, max_depth=None,\n",
       "              max_leaves=None, min_child_weight=None, missing=nan,\n",
       "              monotone_constraints=None, multi_strategy=None, n_estimators=None,\n",
       "              n_jobs=None, num_parallel_tree=None, random_state=None, ...)</pre></div></div></div></div></div>"
      ],
      "text/plain": [
       "XGBClassifier(base_score=None, booster=None, callbacks=None,\n",
       "              colsample_bylevel=None, colsample_bynode=None,\n",
       "              colsample_bytree=None, device=None, early_stopping_rounds=None,\n",
       "              enable_categorical=False, eval_metric='logloss',\n",
       "              feature_types=None, gamma=None, grow_policy=None,\n",
       "              importance_type=None, interaction_constraints=None,\n",
       "              learning_rate=None, max_bin=None, max_cat_threshold=None,\n",
       "              max_cat_to_onehot=None, max_delta_step=None, max_depth=None,\n",
       "              max_leaves=None, min_child_weight=None, missing=nan,\n",
       "              monotone_constraints=None, multi_strategy=None, n_estimators=None,\n",
       "              n_jobs=None, num_parallel_tree=None, random_state=None, ...)"
      ]
     },
     "execution_count": 77,
     "metadata": {},
     "output_type": "execute_result"
    }
   ],
   "source": [
    "from xgboost import XGBClassifier\n",
    "model= XGBClassifier( eval_metric='logloss')\n",
    "model.fit(X_train, y_train)"
   ]
  },
  {
   "attachments": {},
   "cell_type": "markdown",
   "metadata": {},
   "source": [
    "## Evaluate Model"
   ]
  },
  {
   "cell_type": "code",
   "execution_count": 79,
   "metadata": {},
   "outputs": [
    {
     "name": "stdout",
     "output_type": "stream",
     "text": [
      "\n",
      "Confusion Matrix:\n",
      " [[38716  6370]\n",
      " [  346 55610]]\n",
      "\n",
      "Classification Report:\n",
      "               precision    recall  f1-score   support\n",
      "\n",
      "         0.0       0.99      0.86      0.92     45086\n",
      "         1.0       0.90      0.99      0.94     55956\n",
      "\n",
      "    accuracy                           0.93    101042\n",
      "   macro avg       0.94      0.93      0.93    101042\n",
      "weighted avg       0.94      0.93      0.93    101042\n",
      "\n",
      "Accuracy Score: 0.9335325904079491\n",
      "Precision: 0.8972249112616973\n",
      "Recall: 0.9938165701622703\n",
      "F1 Score: 0.9430538597205264\n"
     ]
    }
   ],
   "source": [
    "from sklearn.metrics import classification_report, confusion_matrix, accuracy_score, precision_score, recall_score, f1_score\n",
    "\n",
    "# Predict on test set\n",
    "y_pred = model.predict(X_test)\n",
    "\n",
    "# Confusion Matrix\n",
    "print(\"\\nConfusion Matrix:\\n\", confusion_matrix(y_test, y_pred))\n",
    "\n",
    "# Classification Report\n",
    "print(\"\\nClassification Report:\\n\", classification_report(y_test, y_pred))\n",
    "\n",
    "# Individual Metrics\n",
    "print(\"Accuracy Score:\", accuracy_score(y_test, y_pred))\n",
    "print(\"Precision:\", precision_score(y_test, y_pred))\n",
    "print(\"Recall:\", recall_score(y_test, y_pred))\n",
    "print(\"F1 Score:\", f1_score(y_test, y_pred))\n",
    "\n"
   ]
  },
  {
   "attachments": {},
   "cell_type": "markdown",
   "metadata": {},
   "source": [
    "## 📊 Model Evaluation Report\n",
    "\n",
    "### ✅ Confusion Matrix\n",
    "\n",
    "[[38716 6370]\n",
    "[ 346 55610]]\n",
    "\n",
    "- **True Negatives (TN)** = 38716  \n",
    "- **False Positives (FP)** = 6370  \n",
    "- **False Negatives (FN)** = 346  \n",
    "- **True Positives (TP)** = 55610\n",
    "\n",
    "---\n",
    "\n",
    "### 📋 Classification Report\n",
    "\n",
    "| Class | Precision | Recall | F1-score | Support |\n",
    "|-------|-----------|--------|----------|---------|\n",
    "| **0.0** | 0.99 | 0.86 | 0.92 | 45086 |\n",
    "| **1.0** | 0.90 | 0.99 | 0.94 | 55956 |\n",
    "\n",
    "- **Accuracy**: 0.9335  \n",
    "- **Macro Avg**: Precision = 0.94, Recall = 0.93, F1-score = 0.93  \n",
    "- **Weighted Avg**: Precision = 0.94, Recall = 0.93, F1-score = 0.93\n",
    "\n",
    "---\n",
    "\n",
    "### 📈 Individual Metrics\n",
    "\n",
    "- **Accuracy Score**: `0.9335`\n",
    "- **Precision**: `0.8972`\n",
    "- **Recall**: `0.9938`\n",
    "- **F1 Score**: `0.9431`\n",
    "\n",
    "---\n",
    "\n",
    "### ✅ Interpretation\n",
    "\n",
    "- The model performs **very well** with an overall **accuracy of ~93.35%**.\n",
    "- It shows **excellent recall (99.38%)** for the positive class (churn = 1.0), which is crucial in churn prediction.\n",
    "- Slight trade-off in **precision (89.72%)** indicates some false positives, but overall balance is good as reflected by the **F1 score of 94.31%**.\n",
    "\n"
   ]
  },
  {
   "attachments": {},
   "cell_type": "markdown",
   "metadata": {},
   "source": [
    "## Apply SMOTE (Synthetic Minority Oversampling Technique) for imbalance data to balance data"
   ]
  },
  {
   "attachments": {},
   "cell_type": "markdown",
   "metadata": {},
   "source": [
    "## Import Libraries"
   ]
  },
  {
   "cell_type": "code",
   "execution_count": 80,
   "metadata": {},
   "outputs": [],
   "source": [
    "import pandas as pd\n",
    "import numpy as np\n",
    "from xgboost import XGBClassifier\n",
    "from sklearn.model_selection import train_test_split\n",
    "from sklearn.metrics import (confusion_matrix, classification_report,\n",
    "                             accuracy_score, precision_score, recall_score, f1_score,\n",
    "                             precision_recall_curve)\n",
    "from imblearn.over_sampling import SMOTE\n",
    "import matplotlib.pyplot as plt\n",
    "import seaborn as sns\n"
   ]
  },
  {
   "attachments": {},
   "cell_type": "markdown",
   "metadata": {},
   "source": [
    "## Load and Split Data"
   ]
  },
  {
   "cell_type": "code",
   "execution_count": 81,
   "metadata": {},
   "outputs": [],
   "source": [
    "# Split the dataset\n",
    "X_train, X_test, y_train, y_test = train_test_split(\n",
    "    X, y, test_size=0.3, stratify=y, random_state=42\n",
    ")\n"
   ]
  },
  {
   "attachments": {},
   "cell_type": "markdown",
   "metadata": {},
   "source": [
    "###  Apply SMOTE (to training data only)"
   ]
  },
  {
   "cell_type": "code",
   "execution_count": 82,
   "metadata": {},
   "outputs": [
    {
     "name": "stdout",
     "output_type": "stream",
     "text": [
      "After SMOTE: [196344 196344]\n"
     ]
    }
   ],
   "source": [
    "sm = SMOTE(random_state=42)\n",
    "X_train_smote, y_train_smote = sm.fit_resample(X_train, y_train)\n",
    "\n",
    "print(\"After SMOTE:\", np.bincount(y_train_smote))\n"
   ]
  },
  {
   "attachments": {},
   "cell_type": "markdown",
   "metadata": {},
   "source": [
    "### Train XGBClassifier"
   ]
  },
  {
   "cell_type": "code",
   "execution_count": 89,
   "metadata": {},
   "outputs": [
    {
     "data": {
      "text/html": [
       "<style>#sk-container-id-2 {color: black;}#sk-container-id-2 pre{padding: 0;}#sk-container-id-2 div.sk-toggleable {background-color: white;}#sk-container-id-2 label.sk-toggleable__label {cursor: pointer;display: block;width: 100%;margin-bottom: 0;padding: 0.3em;box-sizing: border-box;text-align: center;}#sk-container-id-2 label.sk-toggleable__label-arrow:before {content: \"▸\";float: left;margin-right: 0.25em;color: #696969;}#sk-container-id-2 label.sk-toggleable__label-arrow:hover:before {color: black;}#sk-container-id-2 div.sk-estimator:hover label.sk-toggleable__label-arrow:before {color: black;}#sk-container-id-2 div.sk-toggleable__content {max-height: 0;max-width: 0;overflow: hidden;text-align: left;background-color: #f0f8ff;}#sk-container-id-2 div.sk-toggleable__content pre {margin: 0.2em;color: black;border-radius: 0.25em;background-color: #f0f8ff;}#sk-container-id-2 input.sk-toggleable__control:checked~div.sk-toggleable__content {max-height: 200px;max-width: 100%;overflow: auto;}#sk-container-id-2 input.sk-toggleable__control:checked~label.sk-toggleable__label-arrow:before {content: \"▾\";}#sk-container-id-2 div.sk-estimator input.sk-toggleable__control:checked~label.sk-toggleable__label {background-color: #d4ebff;}#sk-container-id-2 div.sk-label input.sk-toggleable__control:checked~label.sk-toggleable__label {background-color: #d4ebff;}#sk-container-id-2 input.sk-hidden--visually {border: 0;clip: rect(1px 1px 1px 1px);clip: rect(1px, 1px, 1px, 1px);height: 1px;margin: -1px;overflow: hidden;padding: 0;position: absolute;width: 1px;}#sk-container-id-2 div.sk-estimator {font-family: monospace;background-color: #f0f8ff;border: 1px dotted black;border-radius: 0.25em;box-sizing: border-box;margin-bottom: 0.5em;}#sk-container-id-2 div.sk-estimator:hover {background-color: #d4ebff;}#sk-container-id-2 div.sk-parallel-item::after {content: \"\";width: 100%;border-bottom: 1px solid gray;flex-grow: 1;}#sk-container-id-2 div.sk-label:hover label.sk-toggleable__label {background-color: #d4ebff;}#sk-container-id-2 div.sk-serial::before {content: \"\";position: absolute;border-left: 1px solid gray;box-sizing: border-box;top: 0;bottom: 0;left: 50%;z-index: 0;}#sk-container-id-2 div.sk-serial {display: flex;flex-direction: column;align-items: center;background-color: white;padding-right: 0.2em;padding-left: 0.2em;position: relative;}#sk-container-id-2 div.sk-item {position: relative;z-index: 1;}#sk-container-id-2 div.sk-parallel {display: flex;align-items: stretch;justify-content: center;background-color: white;position: relative;}#sk-container-id-2 div.sk-item::before, #sk-container-id-2 div.sk-parallel-item::before {content: \"\";position: absolute;border-left: 1px solid gray;box-sizing: border-box;top: 0;bottom: 0;left: 50%;z-index: -1;}#sk-container-id-2 div.sk-parallel-item {display: flex;flex-direction: column;z-index: 1;position: relative;background-color: white;}#sk-container-id-2 div.sk-parallel-item:first-child::after {align-self: flex-end;width: 50%;}#sk-container-id-2 div.sk-parallel-item:last-child::after {align-self: flex-start;width: 50%;}#sk-container-id-2 div.sk-parallel-item:only-child::after {width: 0;}#sk-container-id-2 div.sk-dashed-wrapped {border: 1px dashed gray;margin: 0 0.4em 0.5em 0.4em;box-sizing: border-box;padding-bottom: 0.4em;background-color: white;}#sk-container-id-2 div.sk-label label {font-family: monospace;font-weight: bold;display: inline-block;line-height: 1.2em;}#sk-container-id-2 div.sk-label-container {text-align: center;}#sk-container-id-2 div.sk-container {/* jupyter's `normalize.less` sets `[hidden] { display: none; }` but bootstrap.min.css set `[hidden] { display: none !important; }` so we also need the `!important` here to be able to override the default hidden behavior on the sphinx rendered scikit-learn.org. See: https://github.com/scikit-learn/scikit-learn/issues/21755 */display: inline-block !important;position: relative;}#sk-container-id-2 div.sk-text-repr-fallback {display: none;}</style><div id=\"sk-container-id-2\" class=\"sk-top-container\"><div class=\"sk-text-repr-fallback\"><pre>XGBClassifier(base_score=None, booster=None, callbacks=None,\n",
       "              colsample_bylevel=None, colsample_bynode=None,\n",
       "              colsample_bytree=0.8, device=None, early_stopping_rounds=10,\n",
       "              enable_categorical=False, eval_metric=&#x27;logloss&#x27;,\n",
       "              feature_types=None, gamma=None, grow_policy=None,\n",
       "              importance_type=None, interaction_constraints=None,\n",
       "              learning_rate=0.1, max_bin=None, max_cat_threshold=None,\n",
       "              max_cat_to_onehot=None, max_delta_step=None, max_depth=5,\n",
       "              max_leaves=None, min_child_weight=None, missing=nan,\n",
       "              monotone_constraints=None, multi_strategy=None, n_estimators=100,\n",
       "              n_jobs=None, num_parallel_tree=None, random_state=42, ...)</pre><b>In a Jupyter environment, please rerun this cell to show the HTML representation or trust the notebook. <br />On GitHub, the HTML representation is unable to render, please try loading this page with nbviewer.org.</b></div><div class=\"sk-container\" hidden><div class=\"sk-item\"><div class=\"sk-estimator sk-toggleable\"><input class=\"sk-toggleable__control sk-hidden--visually\" id=\"sk-estimator-id-2\" type=\"checkbox\" checked><label for=\"sk-estimator-id-2\" class=\"sk-toggleable__label sk-toggleable__label-arrow\">XGBClassifier</label><div class=\"sk-toggleable__content\"><pre>XGBClassifier(base_score=None, booster=None, callbacks=None,\n",
       "              colsample_bylevel=None, colsample_bynode=None,\n",
       "              colsample_bytree=0.8, device=None, early_stopping_rounds=10,\n",
       "              enable_categorical=False, eval_metric=&#x27;logloss&#x27;,\n",
       "              feature_types=None, gamma=None, grow_policy=None,\n",
       "              importance_type=None, interaction_constraints=None,\n",
       "              learning_rate=0.1, max_bin=None, max_cat_threshold=None,\n",
       "              max_cat_to_onehot=None, max_delta_step=None, max_depth=5,\n",
       "              max_leaves=None, min_child_weight=None, missing=nan,\n",
       "              monotone_constraints=None, multi_strategy=None, n_estimators=100,\n",
       "              n_jobs=None, num_parallel_tree=None, random_state=42, ...)</pre></div></div></div></div></div>"
      ],
      "text/plain": [
       "XGBClassifier(base_score=None, booster=None, callbacks=None,\n",
       "              colsample_bylevel=None, colsample_bynode=None,\n",
       "              colsample_bytree=0.8, device=None, early_stopping_rounds=10,\n",
       "              enable_categorical=False, eval_metric='logloss',\n",
       "              feature_types=None, gamma=None, grow_policy=None,\n",
       "              importance_type=None, interaction_constraints=None,\n",
       "              learning_rate=0.1, max_bin=None, max_cat_threshold=None,\n",
       "              max_cat_to_onehot=None, max_delta_step=None, max_depth=5,\n",
       "              max_leaves=None, min_child_weight=None, missing=nan,\n",
       "              monotone_constraints=None, multi_strategy=None, n_estimators=100,\n",
       "              n_jobs=None, num_parallel_tree=None, random_state=42, ...)"
      ]
     },
     "execution_count": 89,
     "metadata": {},
     "output_type": "execute_result"
    }
   ],
   "source": [
    "model = XGBClassifier(\n",
    "    eval_metric='logloss',\n",
    "    max_depth=5,\n",
    "    learning_rate=0.1,\n",
    "    subsample=0.8,\n",
    "    colsample_bytree=0.8,\n",
    "    n_estimators=100,\n",
    "    random_state=42,\n",
    "    early_stopping_rounds=10 \n",
    ")\n",
    "\n",
    "model.fit(X_train_smote, y_train_smote,\n",
    "          eval_set=[(X_test, y_test)],\n",
    "          verbose=False)\n"
   ]
  },
  {
   "attachments": {},
   "cell_type": "markdown",
   "metadata": {},
   "source": [
    "### Predict Probabilities\n"
   ]
  },
  {
   "cell_type": "code",
   "execution_count": 91,
   "metadata": {},
   "outputs": [],
   "source": [
    "\n",
    "y_probs = model.predict_proba(X_test)[:, 1]  # Probabilities for class 1\n"
   ]
  },
  {
   "attachments": {},
   "cell_type": "markdown",
   "metadata": {},
   "source": [
    "## Threshold Tuning use To balance between precision and recall"
   ]
  },
  {
   "attachments": {},
   "cell_type": "markdown",
   "metadata": {},
   "source": [
    "## 🎯 Threshold Tuning: Used to Balance Between Precision and Recall\n",
    "\n",
    "### 📌 What is Threshold Tuning?\n",
    "\n",
    "Machine learning models often output probabilities (like 0.72), not just \"yes\" or \"no\".\n",
    "\n",
    "**Threshold tuning** means choosing the cutoff point (like 0.5 or 0.6) at which the model decides:\n",
    "- \"Yes\" (positive class)\n",
    "- \"No\" (negative class)\n",
    "\n",
    "---\n",
    "\n",
    "### ⚖️ Why is it Important?\n",
    "\n",
    "By changing the threshold, you can **balance between:**\n",
    "\n",
    "- **Precision** (How many predicted positives were actually correct?)\n",
    "- **Recall** (How many actual positives did the model catch?)\n",
    "\n",
    "---\n",
    "\n",
    "### 🔁 Trade-Off Example\n",
    "\n",
    "| Threshold | Precision | Recall | Explanation                        |\n",
    "|-----------|-----------|--------|------------------------------------|\n",
    "| 0.3       | Low       | High   | Catches more positives but with more false alarms |\n",
    "| 0.7       | High      | Low    | Safer predictions, but may miss real positives |\n",
    "\n",
    "---\n",
    "\n",
    "### ✅ When to Use Threshold Tuning\n",
    "\n",
    "- When **false positives** or **false negatives** are costly.\n",
    "- When you want to find the **best balance** between catching all positives and avoiding incorrect alerts.\n",
    "- Especially useful for **imbalanced datasets** like churn, fraud, or disease detection.\n",
    "\n",
    "---\n",
    "\n",
    "### 📊 Tip:\n",
    "\n",
    "Always use a **Precision–Recall vs Threshold plot** to visually find the best point for your business goals.\n"
   ]
  },
  {
   "cell_type": "code",
   "execution_count": 93,
   "metadata": {},
   "outputs": [
    {
     "name": "stdout",
     "output_type": "stream",
     "text": [
      "\n",
      "✅ Best Threshold for F1: 0.1378\n"
     ]
    }
   ],
   "source": [
    "# Threshold tuning using F1 and automaticaly Threshold choose\n",
    "precisions, recalls, thresholds = precision_recall_curve(y_test, y_probs)\n",
    "f1_scores = 2 * (precisions * recalls) / (precisions + recalls)\n",
    "best_threshold = thresholds[np.argmax(f1_scores)]\n",
    "print(f\"\\n✅ Best Threshold for F1: {best_threshold:.4f}\")"
   ]
  },
  {
   "attachments": {},
   "cell_type": "markdown",
   "metadata": {},
   "source": [
    "### Predict using best threshold"
   ]
  },
  {
   "cell_type": "code",
   "execution_count": 94,
   "metadata": {},
   "outputs": [],
   "source": [
    "# Predict using best threshold\n",
    "y_pred_thresh = (y_probs >= best_threshold).astype(int)"
   ]
  },
  {
   "attachments": {},
   "cell_type": "markdown",
   "metadata": {},
   "source": [
    "### Evaluate the model using metrics"
   ]
  },
  {
   "cell_type": "code",
   "execution_count": 95,
   "metadata": {},
   "outputs": [
    {
     "name": "stdout",
     "output_type": "stream",
     "text": [
      "\n",
      "Confusion Matrix:\n",
      " [[57303 10111]\n",
      " [  301 83847]]\n",
      "\n",
      "Classification Report:\n",
      "               precision    recall  f1-score   support\n",
      "\n",
      "         0.0       0.99      0.85      0.92     67414\n",
      "         1.0       0.89      1.00      0.94     84148\n",
      "\n",
      "    accuracy                           0.93    151562\n",
      "   macro avg       0.94      0.92      0.93    151562\n",
      "weighted avg       0.94      0.93      0.93    151562\n",
      "\n",
      "Accuracy Score: 0.9313020414087964\n",
      "Precision: 0.89238808829477\n",
      "Recall: 0.996422969054523\n",
      "F1 Score: 0.9415404309793045\n"
     ]
    }
   ],
   "source": [
    "\n",
    "\n",
    "# Evaluate\n",
    "print(\"\\nConfusion Matrix:\\n\", confusion_matrix(y_test, y_pred_thresh))\n",
    "print(\"\\nClassification Report:\\n\", classification_report(y_test, y_pred_thresh))\n",
    "print(\"Accuracy Score:\", accuracy_score(y_test, y_pred_thresh))\n",
    "print(\"Precision:\", precision_score(y_test, y_pred_thresh))\n",
    "print(\"Recall:\", recall_score(y_test, y_pred_thresh))\n",
    "print(\"F1 Score:\", f1_score(y_test, y_pred_thresh))"
   ]
  },
  {
   "attachments": {},
   "cell_type": "markdown",
   "metadata": {},
   "source": [
    "## 📊 Model Performance Comparison: Before vs After SMOTE + Threshold Tuning\n",
    "\n",
    "### ✅ Confusion Matrix\n",
    "\n",
    "| Condition           | True Negatives | False Positives | False Negatives | True Positives |\n",
    "|---------------------|----------------|------------------|------------------|----------------|\n",
    "| **Before (No SMOTE / Threshold)** | 38,716          | 6,370            | 346             | 55,610         |\n",
    "| **After (SMOTE + Threshold)**     | 57,303          | 10,111           | 301             | 83,847         |\n",
    "\n",
    "---\n",
    "\n",
    "### 📋 Classification Metrics\n",
    "\n",
    "| Metric         | Before (No SMOTE / Threshold) | After (SMOTE + Threshold) |\n",
    "|----------------|-------------------------------|----------------------------|\n",
    "| **Accuracy**   | 0.9335                        | 0.9313                     |\n",
    "| **Precision**  | 0.8972                        | 0.8924                     |\n",
    "| **Recall**     | 0.9938 ✅                     | 0.9964 ✅                  |\n",
    "| **F1 Score**   | 0.9431                        | 0.9415                     |\n",
    "\n",
    "---\n",
    "\n",
    "### 📌 Summary\n",
    "\n",
    "- ✅ **Recall improved slightly** after SMOTE and threshold tuning (from **0.9938** → **0.9964**), meaning the model **misses fewer actual churners**.\n",
    "- ⚖️ **Precision decreased slightly** (from **0.8972** → **0.8924**), meaning **slightly more false positives**.\n",
    "- 🎯 **F1 Score stayed high**, indicating a strong balance between precision and recall in both cases.\n",
    "- 🧠 **SMOTE** helped balance the class distribution, while **threshold tuning** optimized classification based on your business needs.\n",
    "\n",
    "---\n",
    "\n",
    "### ✅ Recommendation\n",
    "\n",
    "If your business goal is to **catch nearly all churners**, the **SMOTE + Threshold model** is more robust due to:\n",
    "- Higher **recall**\n",
    "- Similar **F1 score**\n",
    "- Acceptable trade-off in **precision**\n",
    "\n"
   ]
  },
  {
   "cell_type": "code",
   "execution_count": 96,
   "metadata": {},
   "outputs": [
    {
     "name": "stdout",
     "output_type": "stream",
     "text": [
      "Class distribution: Counter({1.0: 280492, 0.0: 224714})\n",
      "Before SMOTE: Counter({1.0: 224393, 0.0: 179771})\n",
      "After SMOTE: Counter({1.0: 224393, 0.0: 224393})\n",
      "[0]\tvalidation_0-logloss:0.65210\n",
      "[1]\tvalidation_0-logloss:0.60799\n",
      "[2]\tvalidation_0-logloss:0.56648\n",
      "[3]\tvalidation_0-logloss:0.52586\n",
      "[4]\tvalidation_0-logloss:0.49500\n",
      "[5]\tvalidation_0-logloss:0.46620\n",
      "[6]\tvalidation_0-logloss:0.44433\n",
      "[7]\tvalidation_0-logloss:0.42503\n",
      "[8]\tvalidation_0-logloss:0.40477\n",
      "[9]\tvalidation_0-logloss:0.38908\n",
      "[10]\tvalidation_0-logloss:0.37511\n",
      "[11]\tvalidation_0-logloss:0.36166\n",
      "[12]\tvalidation_0-logloss:0.34794\n",
      "[13]\tvalidation_0-logloss:0.33766\n",
      "[14]\tvalidation_0-logloss:0.32890\n",
      "[15]\tvalidation_0-logloss:0.31890\n",
      "[16]\tvalidation_0-logloss:0.31116\n",
      "[17]\tvalidation_0-logloss:0.30450\n",
      "[18]\tvalidation_0-logloss:0.29871\n",
      "[19]\tvalidation_0-logloss:0.29214\n",
      "[20]\tvalidation_0-logloss:0.28770\n",
      "[21]\tvalidation_0-logloss:0.28337\n",
      "[22]\tvalidation_0-logloss:0.27992\n",
      "[23]\tvalidation_0-logloss:0.27587\n",
      "[24]\tvalidation_0-logloss:0.27305\n",
      "[25]\tvalidation_0-logloss:0.26921\n",
      "[26]\tvalidation_0-logloss:0.26547\n",
      "[27]\tvalidation_0-logloss:0.26214\n",
      "[28]\tvalidation_0-logloss:0.25965\n",
      "[29]\tvalidation_0-logloss:0.25635\n",
      "[30]\tvalidation_0-logloss:0.25386\n",
      "[31]\tvalidation_0-logloss:0.25230\n",
      "[32]\tvalidation_0-logloss:0.24993\n",
      "[33]\tvalidation_0-logloss:0.24787\n",
      "[34]\tvalidation_0-logloss:0.24621\n",
      "[35]\tvalidation_0-logloss:0.24452\n",
      "[36]\tvalidation_0-logloss:0.24297\n",
      "[37]\tvalidation_0-logloss:0.24145\n",
      "[38]\tvalidation_0-logloss:0.24054\n",
      "[39]\tvalidation_0-logloss:0.23996\n",
      "[40]\tvalidation_0-logloss:0.23872\n",
      "[41]\tvalidation_0-logloss:0.23794\n",
      "[42]\tvalidation_0-logloss:0.23750\n",
      "[43]\tvalidation_0-logloss:0.23721\n",
      "[44]\tvalidation_0-logloss:0.23673\n",
      "[45]\tvalidation_0-logloss:0.23585\n",
      "[46]\tvalidation_0-logloss:0.23511\n",
      "[47]\tvalidation_0-logloss:0.23462\n",
      "[48]\tvalidation_0-logloss:0.23422\n",
      "[49]\tvalidation_0-logloss:0.23363\n",
      "[50]\tvalidation_0-logloss:0.23346\n",
      "[51]\tvalidation_0-logloss:0.23324\n",
      "[52]\tvalidation_0-logloss:0.23310\n",
      "[53]\tvalidation_0-logloss:0.23287\n",
      "[54]\tvalidation_0-logloss:0.23247\n",
      "[55]\tvalidation_0-logloss:0.23238\n",
      "[56]\tvalidation_0-logloss:0.23218\n",
      "[57]\tvalidation_0-logloss:0.23185\n",
      "[58]\tvalidation_0-logloss:0.23116\n",
      "[59]\tvalidation_0-logloss:0.23107\n",
      "[60]\tvalidation_0-logloss:0.23080\n",
      "[61]\tvalidation_0-logloss:0.23060\n",
      "[62]\tvalidation_0-logloss:0.23038\n",
      "[63]\tvalidation_0-logloss:0.22995\n",
      "[64]\tvalidation_0-logloss:0.22973\n",
      "[65]\tvalidation_0-logloss:0.22956\n",
      "[66]\tvalidation_0-logloss:0.22863\n",
      "[67]\tvalidation_0-logloss:0.22858\n",
      "[68]\tvalidation_0-logloss:0.22836\n",
      "[69]\tvalidation_0-logloss:0.22823\n",
      "[70]\tvalidation_0-logloss:0.22815\n",
      "[71]\tvalidation_0-logloss:0.22809\n",
      "[72]\tvalidation_0-logloss:0.22808\n",
      "[73]\tvalidation_0-logloss:0.22786\n",
      "[74]\tvalidation_0-logloss:0.22762\n",
      "[75]\tvalidation_0-logloss:0.22755\n",
      "[76]\tvalidation_0-logloss:0.22740\n",
      "[77]\tvalidation_0-logloss:0.22727\n",
      "[78]\tvalidation_0-logloss:0.22720\n",
      "[79]\tvalidation_0-logloss:0.22716\n",
      "[80]\tvalidation_0-logloss:0.22702\n",
      "[81]\tvalidation_0-logloss:0.22691\n",
      "[82]\tvalidation_0-logloss:0.22686\n",
      "[83]\tvalidation_0-logloss:0.22678\n",
      "[84]\tvalidation_0-logloss:0.22654\n",
      "[85]\tvalidation_0-logloss:0.22649\n",
      "[86]\tvalidation_0-logloss:0.22644\n",
      "[87]\tvalidation_0-logloss:0.22635\n",
      "[88]\tvalidation_0-logloss:0.22617\n",
      "[89]\tvalidation_0-logloss:0.22612\n",
      "[90]\tvalidation_0-logloss:0.22610\n",
      "[91]\tvalidation_0-logloss:0.22603\n",
      "[92]\tvalidation_0-logloss:0.22601\n",
      "[93]\tvalidation_0-logloss:0.22570\n",
      "[94]\tvalidation_0-logloss:0.22570\n",
      "[95]\tvalidation_0-logloss:0.22559\n",
      "[96]\tvalidation_0-logloss:0.22481\n",
      "[97]\tvalidation_0-logloss:0.22479\n",
      "[98]\tvalidation_0-logloss:0.22476\n",
      "[99]\tvalidation_0-logloss:0.22446\n",
      "\n",
      "Feature Importance:\n",
      "             Feature  Importance\n",
      "4      Support Calls    0.255353\n",
      "8        Total Spend    0.230461\n",
      "5      Payment Delay    0.146863\n",
      "7    Contract Length    0.106382\n",
      "0                Age    0.095547\n",
      "1             Gender    0.086915\n",
      "9   Last Interaction    0.042533\n",
      "2             Tenure    0.016683\n",
      "3    Usage Frequency    0.011288\n",
      "6  Subscription Type    0.007975\n",
      "\n",
      "✅ Best Threshold for F1: 0.1300\n",
      "\n",
      "Confusion Matrix:\n",
      " [[38214  6729]\n",
      " [  236 55863]]\n",
      "\n",
      "Classification Report:\n",
      "               precision    recall  f1-score   support\n",
      "\n",
      "         0.0       0.99      0.85      0.92     44943\n",
      "         1.0       0.89      1.00      0.94     56099\n",
      "\n",
      "    accuracy                           0.93    101042\n",
      "   macro avg       0.94      0.92      0.93    101042\n",
      "weighted avg       0.94      0.93      0.93    101042\n",
      "\n",
      "Accuracy Score: 0.9310682686407632\n",
      "Precision: 0.8924942484662577\n",
      "Recall: 0.995793151393073\n",
      "F1 Score: 0.9413182128383788\n",
      "\n",
      "✅ Model, Scaler, Encoders, and Best Threshold saved successfully!\n"
     ]
    }
   ],
   "source": [
    "import pandas as pd\n",
    "from sklearn.model_selection import train_test_split\n",
    "from sklearn.preprocessing import LabelEncoder, StandardScaler\n",
    "from xgboost import XGBClassifier\n",
    "from sklearn.metrics import classification_report, confusion_matrix, accuracy_score, precision_score, recall_score, precision_recall_curve, f1_score\n",
    "import joblib\n",
    "import numpy as np\n",
    "from imblearn.over_sampling import SMOTE\n",
    "from collections import Counter\n",
    "\n",
    "# Load and clean data\n",
    "df = pd.read_csv(\"churn.csv\")\n",
    "df = df.dropna()\n",
    "\n",
    "df.drop(columns=[ \"CustomerID\"], inplace=True)\n",
    "gender_encoder = LabelEncoder()\n",
    "df[\"Gender\"] = gender_encoder.fit_transform(df[\"Gender\"])\n",
    "\n",
    "subscription_encoder = LabelEncoder()\n",
    "df[\"Subscription Type\"] = subscription_encoder.fit_transform(df[\"Subscription Type\"])\n",
    "\n",
    "contract_encoder = LabelEncoder()\n",
    "df[\"Contract Length\"] = contract_encoder.fit_transform(df[\"Contract Length\"])\n",
    "\n",
    "# Save the encoders for later use\n",
    "joblib.dump(gender_encoder, \"gender_encoder.pkl\")\n",
    "joblib.dump(subscription_encoder, \"subscriptiontype_encoder.pkl\")\n",
    "joblib.dump(contract_encoder, \"contractlength_encoder.pkl\")\n",
    "\n",
    "# Split features and target\n",
    "X = df.drop(\"Churn\", axis=1)\n",
    "y = df[\"Churn\"]\n",
    "\n",
    "# Check class distribution\n",
    "print(\"Class distribution:\", Counter(y))\n",
    "\n",
    "# Scale features\n",
    "scaler = StandardScaler()\n",
    "X_scaled = scaler.fit_transform(X)\n",
    "\n",
    "# Train/test split\n",
    "X_train, X_test, y_train, y_test = train_test_split(\n",
    "    X_scaled, y, test_size=0.2, random_state=42, stratify=y\n",
    ")\n",
    "\n",
    "# Handle class imbalance using SMOTE\n",
    "print(\"Before SMOTE:\", Counter(y_train))\n",
    "smote = SMOTE(random_state=42)\n",
    "X_train_res, y_train_res = smote.fit_resample(X_train, y_train)\n",
    "print(\"After SMOTE:\", Counter(y_train_res))\n",
    "\n",
    "\n",
    "\n",
    "\n",
    "# Train model with optimized parameters\n",
    "model = XGBClassifier(\n",
    "    eval_metric='logloss',\n",
    "    scale_pos_weight=0.8,  # Optional alternative to SMOTE\n",
    "    max_depth=5,\n",
    "    learning_rate=0.1,\n",
    "    subsample=0.8,\n",
    "    colsample_bytree=0.8,\n",
    "    n_estimators=100,\n",
    "    random_state=42,\n",
    "    early_stopping_rounds=10  # Moved this here from fit()\n",
    ")\n",
    "\n",
    "# Fit with evaluation set\n",
    "model.fit(\n",
    "    X_train_res, y_train_res,\n",
    "    eval_set=[(X_test, y_test)],\n",
    "    verbose= False\n",
    ")\n",
    "\n",
    "# Feature importance\n",
    "print(\"\\nFeature Importance:\")\n",
    "importance = pd.DataFrame({\n",
    "    'Feature': X.columns,\n",
    "    'Importance': model.feature_importances_\n",
    "}).sort_values('Importance', ascending=False)\n",
    "print(importance)\n",
    "\n",
    "# Predict probabilities\n",
    "y_proba = model.predict_proba(X_test)[:, 1]\n",
    "\n",
    "# Threshold tuning using F1\n",
    "precisions, recalls, thresholds = precision_recall_curve(y_test, y_proba)\n",
    "f1_scores = 2 * (precisions * recalls) / (precisions + recalls)\n",
    "best_threshold = thresholds[np.argmax(f1_scores)]\n",
    "print(f\"\\n Best Threshold for F1: {best_threshold:.4f}\")\n",
    "\n",
    "# Predict using best threshold\n",
    "y_pred_thresh = (y_proba >= best_threshold).astype(int)\n",
    "\n",
    "# Evaluate\n",
    "print(\"\\nConfusion Matrix:\\n\", confusion_matrix(y_test, y_pred_thresh))\n",
    "print(\"\\nClassification Report:\\n\", classification_report(y_test, y_pred_thresh))\n",
    "print(\"Accuracy Score:\", accuracy_score(y_test, y_pred_thresh))\n",
    "print(\"Precision:\", precision_score(y_test, y_pred_thresh))\n",
    "print(\"Recall:\", recall_score(y_test, y_pred_thresh))\n",
    "print(\"F1 Score:\", f1_score(y_test, y_pred_thresh))\n",
    "\n",
    "# Save model, scaler, encoders, and threshold\n",
    "model.save_model(\"xgb_churn_model.json\")\n",
    "joblib.dump(scaler, \"scaler.pkl\")\n",
    "joblib.dump(best_threshold, \"best_threshold.pkl\")\n",
    "\n",
    "print(\"\\n Model, Scaler, Encoders, and Best Threshold saved successfully!\")"
   ]
  },
  {
   "attachments": {},
   "cell_type": "markdown",
   "metadata": {},
   "source": [
    "# Test the model"
   ]
  },
  {
   "cell_type": "code",
   "execution_count": 107,
   "metadata": {},
   "outputs": [
    {
     "name": "stdout",
     "output_type": "stream",
     "text": [
      "Churn Probability: 63.17 %\n",
      "Prediction: Churn\n"
     ]
    }
   ],
   "source": [
    "import pandas as pd\n",
    "import joblib\n",
    "from xgboost import XGBClassifier\n",
    "\n",
    "# Load scaler, model, and threshold\n",
    "scaler = joblib.load(\"scaler.pkl\")\n",
    "best_threshold = joblib.load(\"best_threshold.pkl\")\n",
    "\n",
    "# Load label encoders\n",
    "contract_encoder = joblib.load(\"contractlength_encoder.pkl\")\n",
    "gender_encoder = joblib.load(\"gender_encoder.pkl\")\n",
    "subscription_encoder = joblib.load(\"subscriptiontype_encoder.pkl\")\n",
    "\n",
    "# Load XGBoost model\n",
    "model = XGBClassifier()\n",
    "model.load_model(\"xgb_churn_model.json\")\n",
    "\n",
    "# Define feature names in training order\n",
    "columns = [\n",
    "    \"Age\", \"Gender\", \"Tenure\", \"Usage Frequency\", \"Support Calls\",\n",
    "    \"Payment Delay\", \"Subscription Type\", \"Contract Length\",\n",
    "    \"Total Spend\", \"Last Interaction\"\n",
    "]\n",
    "\n",
    "raw_input = {\n",
    "    \"Age\": 30,\n",
    "    \"Gender\": \"Female\",  # or \"Female\"\n",
    "    \"Tenure\": 24,\n",
    "    \"Usage Frequency\": 5.0,\n",
    "    \"Support Calls\": 0,\n",
    "    \"Payment Delay\": 0.0,\n",
    "    \"Subscription Type\": \"Basic\",  # or \"Basic\", \"Premium\"\n",
    "    \"Contract Length\": \"Annual\",  # or \"Monthly\", \"Quarterly\"\n",
    "    \"Total Spend\": 20000.0,\n",
    "    \"Last Interaction\": 30\n",
    "}\n",
    "\n",
    "\n",
    "\n",
    "# Encode categorical values using the loaded encoders\n",
    "encoded_input = [\n",
    "    raw_input[\"Age\"],\n",
    "    gender_encoder.transform([raw_input[\"Gender\"]])[0],\n",
    "    raw_input[\"Tenure\"],\n",
    "    raw_input[\"Usage Frequency\"],\n",
    "    raw_input[\"Support Calls\"],\n",
    "    raw_input[\"Payment Delay\"],\n",
    "    subscription_encoder.transform([raw_input[\"Subscription Type\"]])[0],\n",
    "    contract_encoder.transform([raw_input[\"Contract Length\"]])[0],\n",
    "    raw_input[\"Total Spend\"],\n",
    "    raw_input[\"Last Interaction\"]\n",
    "]\n",
    "\n",
    "# Convert to DataFrame\n",
    "input_df = pd.DataFrame([encoded_input], columns=columns)\n",
    "\n",
    "# Scale input\n",
    "scaled_input = scaler.transform(input_df)\n",
    "\n",
    "# Predict probability of churn\n",
    "proba = model.predict_proba(scaled_input)[:, 1]\n",
    "\n",
    "# Apply custom threshold\n",
    "prediction = (proba >= best_threshold).astype(int)\n",
    "# Output\n",
    "print(\"Churn Probability:\", round(proba[0]*100, 2), \"%\")\n",
    "print(\"Prediction:\", \"Churn\" if prediction[0] == 1 else \"Not Churn\")    \n"
   ]
  },
  {
   "cell_type": "code",
   "execution_count": 101,
   "metadata": {},
   "outputs": [
    {
     "name": "stdout",
     "output_type": "stream",
     "text": [
      "Churn Probability: 78.59 %\n",
      "Prediction: Churn\n"
     ]
    }
   ],
   "source": [
    "import pandas as pd\n",
    "import joblib\n",
    "from xgboost import XGBClassifier\n",
    "import numpy as np\n",
    "\n",
    "# Load scaler, model, and threshold\n",
    "scaler = joblib.load(\"scaler.pkl\")\n",
    "best_threshold = joblib.load(\"best_threshold.pkl\")\n",
    "\n",
    "# Fix threshold in case it's an array\n",
    "threshold = float(best_threshold) if isinstance(best_threshold, (np.ndarray, list, tuple)) else best_threshold\n",
    "\n",
    "# Load label encoders\n",
    "contract_encoder = joblib.load(\"contractlength_encoder.pkl\")\n",
    "gender_encoder = joblib.load(\"gender_encoder.pkl\")\n",
    "subscription_encoder = joblib.load(\"subscriptiontype_encoder.pkl\")\n",
    "\n",
    "# Load XGBoost model\n",
    "model = XGBClassifier()\n",
    "model.load_model(\"xgb_churn_model.json\")\n",
    "\n",
    "# Define feature names in training order\n",
    "columns = [\n",
    "    \"Age\", \"Gender\", \"Tenure\", \"Usage Frequency\", \"Support Calls\",\n",
    "    \"Payment Delay\", \"Subscription Type\", \"Contract Length\",\n",
    "    \"Total Spend\", \"Last Interaction\"\n",
    "]\n",
    "\n",
    "# 🔁 Updated example input (user-style)\n",
    "raw_input = {\n",
    "    \"Age\": 45,\n",
    "    \"Gender\": \"Female\",\n",
    "    \"Tenure\": 2,\n",
    "    \"Usage Frequency\": 3.5,\n",
    "    \"Support Calls\": 4,\n",
    "    \"Payment Delay\": 10.0,\n",
    "    \"Subscription Type\": \"Basic\",\n",
    "    \"Contract Length\": \"Monthly\",\n",
    "    \"Total Spend\": 300.0,\n",
    "    \"Last Interaction\": 40\n",
    "}\n",
    "\n",
    "# Encode categorical values\n",
    "encoded_input = [\n",
    "    raw_input[\"Age\"],\n",
    "    gender_encoder.transform([raw_input[\"Gender\"]])[0],\n",
    "    raw_input[\"Tenure\"],\n",
    "    raw_input[\"Usage Frequency\"],\n",
    "    raw_input[\"Support Calls\"],\n",
    "    raw_input[\"Payment Delay\"],\n",
    "    subscription_encoder.transform([raw_input[\"Subscription Type\"]])[0],\n",
    "    contract_encoder.transform([raw_input[\"Contract Length\"]])[0],\n",
    "    raw_input[\"Total Spend\"],\n",
    "    raw_input[ \"Last Interaction\"]\n",
    "]\n",
    "\n",
    "# Convert to DataFrame\n",
    "input_df = pd.DataFrame([encoded_input], columns=columns)\n",
    "\n",
    "\n",
    "# Scale input\n",
    "scaled_input = scaler.transform(input_df)\n",
    "\n",
    "# Predict probability of churn\n",
    "proba = model.predict_proba(scaled_input)[:, 1]\n",
    "\n",
    "# Apply custom threshold\n",
    "prediction = (proba >= threshold).astype(int)\n",
    "\n",
    "# Output\n",
    "print(\"Churn Probability:\", round(proba[0] * 100, 2), \"%\")\n",
    "print(\"Prediction:\", \"Churn\" if prediction[0] == 1 else \"Not Churn\")\n"
   ]
  },
  {
   "cell_type": "code",
   "execution_count": 102,
   "metadata": {},
   "outputs": [
    {
     "name": "stdout",
     "output_type": "stream",
     "text": [
      "Churn Probability: 3.7 %\n",
      "Prediction: Not Churn\n"
     ]
    }
   ],
   "source": [
    "import pandas as pd\n",
    "import joblib\n",
    "from xgboost import XGBClassifier\n",
    "import numpy as np\n",
    "\n",
    "# Load scaler, model, and threshold\n",
    "scaler = joblib.load(\"scaler.pkl\")\n",
    "best_threshold = joblib.load(\"best_threshold.pkl\")\n",
    "\n",
    "# Fix threshold in case it's an array\n",
    "threshold = float(best_threshold) if isinstance(best_threshold, (np.ndarray, list, tuple)) else best_threshold\n",
    "\n",
    "# Load label encoders\n",
    "contract_encoder = joblib.load(\"contractlength_encoder.pkl\")\n",
    "gender_encoder = joblib.load(\"gender_encoder.pkl\")\n",
    "subscription_encoder = joblib.load(\"subscriptiontype_encoder.pkl\")\n",
    "\n",
    "# Load XGBoost model\n",
    "model = XGBClassifier()\n",
    "model.load_model(\"xgb_churn_model.json\")\n",
    "\n",
    "# Define feature names in training order\n",
    "columns = [\n",
    "    \"Age\", \"Gender\", \"Tenure\", \"Usage Frequency\", \"Support Calls\",\n",
    "    \"Payment Delay\", \"Subscription Type\", \"Contract Length\",\n",
    "    \"Total Spend\", \"Last Interaction\"\n",
    "]\n",
    "\n",
    "# 🔁 Updated example input (user-style)\n",
    "raw_input = {\n",
    "    \"Age\": 30,\n",
    "    \"Gender\": \"Male\",\n",
    "    \"Tenure\": 24,\n",
    "    \"Usage Frequency\": 5,\n",
    "    \"Support Calls\": 0,\n",
    "    \"Payment Delay\": 0,\n",
    "    \"Subscription Type\": \"Premium\",\n",
    "    \"Contract Length\": \"Annual\",\n",
    "    \"Total Spend\": 2400,\n",
    "    \"Last Interaction\": 2\n",
    "}\n",
    "\n",
    "# Encode categorical values\n",
    "encoded_input = [\n",
    "    raw_input[\"Age\"],\n",
    "    gender_encoder.transform([raw_input[\"Gender\"]])[0],\n",
    "    raw_input[\"Tenure\"],\n",
    "    raw_input[\"Usage Frequency\"],\n",
    "    raw_input[\"Support Calls\"],\n",
    "    raw_input[\"Payment Delay\"],\n",
    "    subscription_encoder.transform([raw_input[\"Subscription Type\"]])[0],\n",
    "    contract_encoder.transform([raw_input[\"Contract Length\"]])[0],\n",
    "    raw_input[\"Total Spend\"],\n",
    "    raw_input[\"Last Interaction\"]\n",
    "]\n",
    "\n",
    "\n",
    "# Convert to DataFrame\n",
    "input_df = pd.DataFrame([encoded_input], columns=columns)\n",
    "\n",
    "\n",
    "\n",
    "# Scale input\n",
    "scaled_input = scaler.transform(input_df)\n",
    "\n",
    "# Predict probability of churn\n",
    "proba = model.predict_proba(scaled_input)[:, 1]\n",
    "\n",
    "# Apply custom threshold\n",
    "prediction = (proba >= threshold).astype(int)\n",
    "\n",
    "# Output\n",
    "print(\"Churn Probability:\", round(proba[0] * 100, 2), \"%\")\n",
    "print(\"Prediction:\", \"Churn\" if prediction[0] == 1 else \"Not Churn\")"
   ]
  }
 ],
 "metadata": {
  "kernelspec": {
   "display_name": "streamlit",
   "language": "python",
   "name": "python3"
  },
  "language_info": {
   "codemirror_mode": {
    "name": "ipython",
    "version": 3
   },
   "file_extension": ".py",
   "mimetype": "text/x-python",
   "name": "python",
   "nbconvert_exporter": "python",
   "pygments_lexer": "ipython3",
   "version": "3.8.18"
  },
  "orig_nbformat": 4
 },
 "nbformat": 4,
 "nbformat_minor": 2
}
